{
 "metadata": {
  "language_info": {
   "codemirror_mode": {
    "name": "ipython",
    "version": 3
   },
   "file_extension": ".py",
   "mimetype": "text/x-python",
   "name": "python",
   "nbconvert_exporter": "python",
   "pygments_lexer": "ipython3",
   "version": "3.9.5"
  },
  "orig_nbformat": 4,
  "kernelspec": {
   "name": "python3",
   "display_name": "Python 3.9.5 64-bit ('base': conda)"
  },
  "interpreter": {
   "hash": "ecf5722fdaf1897a315d257d89d94520bfcaa453217d5becf09b39e73618b0de"
  }
 },
 "nbformat": 4,
 "nbformat_minor": 2,
 "cells": [
  {
   "cell_type": "code",
   "execution_count": 2,
   "metadata": {},
   "outputs": [
    {
     "output_type": "stream",
     "name": "stdout",
     "text": [
      "green 1\n"
     ]
    }
   ],
   "source": [
    "def green_function(color):\n",
    "    # Execute some code, for example print the color + number \"1\"\n",
    "    print(f\"{color} 1\")\n",
    "def blue_function(color):\n",
    "    # Execute some code, for example print the color + number \"1\"\n",
    "    print(f\"{color} 1\")\n",
    "def red_function(color):\n",
    "    # Execute some code, for example print the color + number \"1\"\n",
    "    print(f\"{color} 1\")\n",
    "def pink_function(color):\n",
    "    # Execute some code, for example print the color + number \"1\"\n",
    "    print(f\"{color} 1\")\n",
    "\n",
    "colors_dict = {\n",
    "    \"green\": green_function,\n",
    "    \"blue\": blue_function,\n",
    "    \"red\": red_function,\n",
    "    \"pink\": pink_function,\n",
    "}\n",
    "\n",
    "user_input = input(\"\")\n",
    "colors_dict.get(user_input)(user_input)"
   ]
  }
 ]
}